{
 "cells": [
  {
   "cell_type": "code",
   "execution_count": 25,
   "metadata": {},
   "outputs": [],
   "source": [
    "import json\n",
    "import requests"
   ]
  },
  {
   "cell_type": "code",
   "execution_count": 26,
   "metadata": {},
   "outputs": [],
   "source": [
    "headers = {\n",
    "    'Host': 'stats.nba.com',\n",
    "    'User-Agent': 'Mozilla/5.0 (Windows NT 10.0; Win64; x64; rv:72.0) Gecko/20100101 Firefox/72.0',\n",
    "    'Accept': 'application/json, text/plain, */*',\n",
    "    'Accept-Language': 'en-US,en;q=0.5',\n",
    "    'Accept-Encoding': 'gzip, deflate, br',\n",
    "    'x-nba-stats-origin': 'stats',\n",
    "    'x-nba-stats-token': 'true',\n",
    "    'Connection': 'keep-alive',\n",
    "    'Origin': 'https://stats.nba.com',\n",
    "    'Referer': 'https://stats.nba.com/',\n",
    "    'Pragma': 'no-cache',\n",
    "    'Cache-Control': 'no-cache'\n",
    "}"
   ]
  },
  {
   "cell_type": "code",
   "execution_count": 27,
   "metadata": {},
   "outputs": [
    {
     "name": "stdout",
     "output_type": "stream",
     "text": [
      "[{'uuid': '5c1767fc-a503-33d7-88ca-0afa8d571b58', 'sdur': 9333, 'surl': 'https://videos.nba.com/nba/pbp/media/2021/11/15/0022100202/402/5c1767fc-a503-33d7-88ca-0afa8d571b58_320x180.mp4', 'sth': 'https://videos.nba.com/nba/pbp/media/2021/11/15/0022100202/402/5c1767fc-a503-33d7-88ca-0afa8d571b58_320x180.jpg', 'mdur': 9333, 'murl': 'https://videos.nba.com/nba/pbp/media/2021/11/15/0022100202/402/5c1767fc-a503-33d7-88ca-0afa8d571b58_960x540.mp4', 'mth': 'https://videos.nba.com/nba/pbp/media/2021/11/15/0022100202/402/5c1767fc-a503-33d7-88ca-0afa8d571b58_960x540.jpg', 'ldur': 9333, 'lurl': 'https://videos.nba.com/nba/pbp/media/2021/11/15/0022100202/402/5c1767fc-a503-33d7-88ca-0afa8d571b58_1280x720.mp4', 'lth': 'https://videos.nba.com/nba/pbp/media/2021/11/15/0022100202/402/5c1767fc-a503-33d7-88ca-0afa8d571b58_1280x720.jpg', 'vtt': 'https://videos.nba.com/nba/pbp/media/2021/11/15/0022100202/402/5c1767fc-a503-33d7-88ca-0afa8d571b58.vtt', 'scc': 'https://videos.nba.com/nba/pbp/media/2021/11/15/0022100202/402/5c1767fc-a503-33d7-88ca-0afa8d571b58.scc', 'srt': 'https://videos.nba.com/nba/pbp/media/2021/11/15/0022100202/402/5c1767fc-a503-33d7-88ca-0afa8d571b58.srt'}]\n"
     ]
    }
   ],
   "source": [
    "event_id = 402\n",
    "game_id =  str(\"00\"+\"22100202\")\n",
    "url = 'https://stats.nba.com/stats/videoeventsasset?GameEventID={}&GameID={}'.format(\n",
    "            event_id, game_id)\n",
    "r = requests.get(url, headers=headers)\n",
    "json = r.json()\n",
    "video_urls = json['resultSets']['Meta']['videoUrls']\n",
    "\n",
    "print(video_urls)"
   ]
  }
 ],
 "metadata": {
  "interpreter": {
   "hash": "959714808e17f9979a55ab2c7cc9485ae7551c18cfa611132813d033557f556e"
  },
  "kernelspec": {
   "display_name": "Python 3.9.7 64-bit",
   "language": "python",
   "name": "python3"
  },
  "language_info": {
   "codemirror_mode": {
    "name": "ipython",
    "version": 3
   },
   "file_extension": ".py",
   "mimetype": "text/x-python",
   "name": "python",
   "nbconvert_exporter": "python",
   "pygments_lexer": "ipython3",
   "version": "3.9.7"
  },
  "orig_nbformat": 4
 },
 "nbformat": 4,
 "nbformat_minor": 2
}
