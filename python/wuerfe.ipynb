{
 "cells": [
  {
   "cell_type": "code",
   "execution_count": 1,
   "metadata": {},
   "outputs": [],
   "source": [
    "from nba_api.stats.endpoints import shotchartdetail, videodetails\n",
    "import json\n",
    "import requests\n",
    "import pandas as pd\n",
    "import matplotlib as mpl\n",
    "import matplotlib.pyplot as plt\n",
    "import time\n"
   ]
  },
  {
   "cell_type": "code",
   "execution_count": 2,
   "metadata": {},
   "outputs": [],
   "source": [
    "headers = {\n",
    "    'Host': 'stats.nba.com',\n",
    "    'User-Agent': 'Mozilla/5.0 (Windows NT 10.0; Win64; x64; rv:72.0) Gecko/20100101 Firefox/72.0',\n",
    "    'Accept': 'application/json, text/plain, */*',\n",
    "    'Accept-Language': 'en-US,en;q=0.5',\n",
    "    'Accept-Encoding': 'gzip, deflate, br',\n",
    "    'x-nba-stats-origin': 'stats',\n",
    "    'x-nba-stats-token': 'true',\n",
    "    'Connection': 'keep-alive',\n",
    "    'Origin': 'https://stats.nba.com',\n",
    "    'Referer': 'https://stats.nba.com/',\n",
    "    'Pragma': 'no-cache',\n",
    "    'Cache-Control': 'no-cache'\n",
    "}"
   ]
  },
  {
   "cell_type": "code",
   "execution_count": 3,
   "metadata": {},
   "outputs": [
    {
     "name": "stdout",
     "output_type": "stream",
     "text": [
      "             GRID_TYPE     GAME_ID  GAME_EVENT_ID  PLAYER_ID   PLAYER_NAME  \\\n",
      "0    Shot Chart Detail  0022100010             22    1630532  Franz Wagner   \n",
      "1    Shot Chart Detail  0022100010             40    1630532  Franz Wagner   \n",
      "2    Shot Chart Detail  0022100010            259    1630532  Franz Wagner   \n",
      "3    Shot Chart Detail  0022100010            364    1630532  Franz Wagner   \n",
      "4    Shot Chart Detail  0022100010            450    1630532  Franz Wagner   \n",
      "..                 ...         ...            ...        ...           ...   \n",
      "544  Shot Chart Detail  0022100620            498    1630532  Franz Wagner   \n",
      "545  Shot Chart Detail  0022100620            607    1630532  Franz Wagner   \n",
      "546  Shot Chart Detail  0022100620            619    1630532  Franz Wagner   \n",
      "547  Shot Chart Detail  0022100620            626    1630532  Franz Wagner   \n",
      "548  Shot Chart Detail  0022100620            646    1630532  Franz Wagner   \n",
      "\n",
      "        TEAM_ID      TEAM_NAME  PERIOD  MINUTES_REMAINING  SECONDS_REMAINING  \\\n",
      "0    1610612753  Orlando Magic       1                 10                 14   \n",
      "1    1610612753  Orlando Magic       1                  8                 27   \n",
      "2    1610612753  Orlando Magic       2                  6                 47   \n",
      "3    1610612753  Orlando Magic       2                  1                  9   \n",
      "4    1610612753  Orlando Magic       3                  7                  2   \n",
      "..          ...            ...     ...                ...                ...   \n",
      "544  1610612753  Orlando Magic       4                 10                 34   \n",
      "545  1610612753  Orlando Magic       4                  2                 26   \n",
      "546  1610612753  Orlando Magic       4                  0                 54   \n",
      "547  1610612753  Orlando Magic       4                  0                 24   \n",
      "548  1610612753  Orlando Magic       4                  0                  0   \n",
      "\n",
      "     ... SHOT_DISTANCE LOC_X LOC_Y SHOT_ATTEMPTED_FLAG SHOT_MADE_FLAG  \\\n",
      "0    ...             0    -9     0                   1              1   \n",
      "1    ...             4    29    37                   1              1   \n",
      "2    ...             8    49    72                   1              0   \n",
      "3    ...            26  -100   240                   1              0   \n",
      "4    ...            25   169   189                   1              0   \n",
      "..   ...           ...   ...   ...                 ...            ...   \n",
      "544  ...             1     2    17                   1              0   \n",
      "545  ...             1    -4    15                   1              1   \n",
      "546  ...             2   -10    26                   1              1   \n",
      "547  ...            23   225    48                   1              0   \n",
      "548  ...             2     4    29                   1              1   \n",
      "\n",
      "    GAME_DATE  HTM  VTM   SEASON  GAME_TYPE  \n",
      "0    20211020  SAS  ORL  2021-22          R  \n",
      "1    20211020  SAS  ORL  2021-22          R  \n",
      "2    20211020  SAS  ORL  2021-22          R  \n",
      "3    20211020  SAS  ORL  2021-22          R  \n",
      "4    20211020  SAS  ORL  2021-22          R  \n",
      "..        ...  ...  ...      ...        ...  \n",
      "544  20220112  WAS  ORL  2021-22          R  \n",
      "545  20220112  WAS  ORL  2021-22          R  \n",
      "546  20220112  WAS  ORL  2021-22          R  \n",
      "547  20220112  WAS  ORL  2021-22          R  \n",
      "548  20220112  WAS  ORL  2021-22          R  \n",
      "\n",
      "[549 rows x 26 columns]\n"
     ]
    }
   ],
   "source": [
    "franz_wuerfe =[]\n",
    "seasons = ['2021-22']\n",
    "playerid= \"1630532\"\n",
    "teamid =\"1610612753\"\n",
    "season_types = ['Regular+Season','Playoffs']\n",
    "for season in seasons:\n",
    "    for season_type in season_types:\n",
    "        try:\n",
    "            time.sleep(1)\n",
    "            season = season\n",
    "            season_type = season_type\n",
    "            url = 'https://stats.nba.com/stats/shotchartdetail??CFID=33&CFPARAMS={}&ContextFilter=&ContextMeasure=FGA&DateFrom=&DateTo=&GameID=&GameSegment=&LastNGames=0&LeagueID=00&Location=&MeasureType=Base&Month=0&OpponentTeamID=0&Outcome=&PaceAdjust=N&PerMode=PerGame&Period=0&PlayerID={}&PlayerPosition=&PlusMinus=N&Position=&Rank=N&RookieYear=&Season={}&SeasonSegment=&SeasonType={}&TeamID={}&VsConference=&VsDivision=&mode=Advanced&showDetails=0&showShots=1&showZones=0'.format(\n",
    "                        season, playerid, season, season_type, teamid)\n",
    "            r = requests.get(url, headers=headers)\n",
    "            json = r.json()\n",
    "            relevant_data = json['resultSets'][0]\n",
    "            rows = relevant_data['rowSet']\n",
    "            franz_data = pd.DataFrame(rows)\n",
    "            franz_data.columns = ['GRID_TYPE', 'GAME_ID', 'GAME_EVENT_ID', 'PLAYER_ID', 'PLAYER_NAME', 'TEAM_ID', 'TEAM_NAME', 'PERIOD', 'MINUTES_REMAINING', 'SECONDS_REMAINING', 'EVENT_TYPE', 'ACTION_TYPE', 'SHOT_TYPE', 'SHOT_ZONE_BASIC', 'SHOT_ZONE_AREA', 'SHOT_ZONE_RANGE', 'SHOT_DISTANCE', 'LOC_X', 'LOC_Y', 'SHOT_ATTEMPTED_FLAG', 'SHOT_MADE_FLAG', 'GAME_DATE', 'HTM', 'VTM']\n",
    "            franz_data['SEASON'] = season\n",
    "            franz_data['GAME_TYPE'] = season_type\n",
    "            franz_data['GAME_TYPE'] = franz_data['GAME_TYPE'].replace(['Regular+Season','Playoffs'],['R','P'])\n",
    "            franz_wuerfe.append(franz_data)\n",
    "        except:\n",
    "            pass\n",
    "franz_wuerfe = pd.concat([franz_data for franz_data in franz_wuerfe])\n",
    "franz_wuerfe.to_csv('franz.csv',index=False)\n",
    "franz_wuerfe[\"EVENT_TYPE\"]"
   ]
  }
 ],
 "metadata": {
  "interpreter": {
   "hash": "90a4fb7a50b2c30898c660cbaebef55b77c14eddd90e7f5420a24829f3d8e9fa"
  },
  "kernelspec": {
   "display_name": "Python 3.10.1 64-bit",
   "language": "python",
   "name": "python3"
  },
  "language_info": {
   "codemirror_mode": {
    "name": "ipython",
    "version": 3
   },
   "file_extension": ".py",
   "mimetype": "text/x-python",
   "name": "python",
   "nbconvert_exporter": "python",
   "pygments_lexer": "ipython3",
   "version": "3.9.7"
  },
  "orig_nbformat": 4
 },
 "nbformat": 4,
 "nbformat_minor": 2
}
