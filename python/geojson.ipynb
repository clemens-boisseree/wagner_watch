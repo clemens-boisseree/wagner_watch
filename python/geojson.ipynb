{
 "cells": [
  {
   "cell_type": "code",
   "execution_count": 9,
   "metadata": {},
   "outputs": [],
   "source": [
    "import json\n",
    "import requests\n",
    "import time\n",
    "import csv\n",
    "import pandas as pd"
   ]
  },
  {
   "cell_type": "code",
   "execution_count": 10,
   "metadata": {},
   "outputs": [],
   "source": [
    "headers = {\n",
    "    'Host': 'stats.nba.com',\n",
    "    'User-Agent': 'Mozilla/5.0 (Windows NT 10.0; Win64; x64; rv:72.0) Gecko/20100101 Firefox/72.0',\n",
    "    'Accept': 'application/json, text/plain, */*',\n",
    "    'Accept-Language': 'en-US,en;q=0.5',\n",
    "    'Accept-Encoding': 'gzip, deflate, br',\n",
    "    'x-nba-stats-origin': 'stats',\n",
    "    'x-nba-stats-token': 'true',\n",
    "    'Connection': 'keep-alive',\n",
    "    'Origin': 'https://stats.nba.com',\n",
    "    'Referer': 'https://stats.nba.com/',\n",
    "    'Pragma': 'no-cache',\n",
    "    'Cache-Control': 'no-cache'\n",
    "}"
   ]
  },
  {
   "cell_type": "code",
   "execution_count": 11,
   "metadata": {},
   "outputs": [],
   "source": [
    "#Würfe abrufen\n",
    "franz_wuerfe =[]\n",
    "seasons = ['2021-22']\n",
    "playerid= \"1630532\"\n",
    "teamid =\"1610612753\"\n",
    "season_types = ['Regular+Season','Playoffs']\n",
    "for season in seasons:\n",
    "    for season_type in season_types:\n",
    "        try:\n",
    "            time.sleep(.6)\n",
    "            season = season\n",
    "            season_type = season_type\n",
    "            url = 'https://stats.nba.com/stats/shotchartdetail??CFID=33&CFPARAMS={}&ContextFilter=&ContextMeasure=FGA&DateFrom=&DateTo=&GameID=&GameSegment=&LastNGames=0&LeagueID=00&Location=&MeasureType=Base&Month=0&OpponentTeamID=0&Outcome=&PaceAdjust=N&PerMode=PerGame&Period=0&PlayerID={}&PlayerPosition=&PlusMinus=N&Position=&Rank=N&RookieYear=&Season={}&SeasonSegment=&SeasonType={}&TeamID={}&VsConference=&VsDivision=&mode=Advanced&showDetails=0&showShots=1&showZones=0'.format(\n",
    "                        season, playerid, season, season_type, teamid)\n",
    "            r = requests.get(url, headers=headers)\n",
    "            data = r.json()\n",
    "            relevant_data = data['resultSets'][0]\n",
    "            rows = relevant_data['rowSet']\n",
    "            franz_data = pd.DataFrame(rows)\n",
    "            franz_data.columns = ['GRID_TYPE', 'GAME_ID', 'GAME_EVENT_ID', 'PLAYER_ID', 'PLAYER_NAME', 'TEAM_ID', 'TEAM_NAME', 'PERIOD', 'MINUTES_REMAINING', 'SECONDS_REMAINING', 'EVENT_TYPE', 'ACTION_TYPE', 'SHOT_TYPE', 'SHOT_ZONE_BASIC', 'SHOT_ZONE_AREA', 'SHOT_ZONE_RANGE', 'SHOT_DISTANCE', 'LOC_X', 'LOC_Y', 'SHOT_ATTEMPTED_FLAG', 'SHOT_MADE_FLAG', 'GAME_DATE', 'HTM', 'VTM']\n",
    "            franz_data['SEASON'] = season\n",
    "            franz_data['GAME_TYPE'] = season_type\n",
    "            franz_data['GAME_TYPE'] = franz_data['GAME_TYPE'].replace(['Regular+Season','Playoffs'],['R','P'])\n",
    "            franz_data[\"GAME_DATE\"] = pd.to_datetime(franz_data[\"GAME_DATE\"], format='%Y%m%d').dt.strftime('%d.%m.%Y')\n",
    "            franz_data['MINUTES_RE']=franz_data['MINUTES_REMAINING'].astype(str)+':'+franz_data['SECONDS_REMAINING'].astype(str)\n",
    "            franz_data[\"MINUTES_RE\"] = pd.to_datetime(franz_data[\"MINUTES_RE\"], format='%M:%S').dt.strftime('%M:%S')\n",
    "\n",
    "            franz_data['SHOT_TYPE'] = franz_data['SHOT_TYPE'].replace(['2PT Field Goal','3PT Field Goal'],[2,3])\n",
    "            franz_data = franz_data.drop(columns=['GRID_TYPE','PLAYER_ID','PLAYER_NAME','TEAM_ID','TEAM_NAME','EVENT_TYPE','MINUTES_REMAINING','SHOT_ZONE_BASIC','SHOT_ZONE_AREA','SHOT_ZONE_RANGE', 'SECONDS_REMAINING','SHOT_ATTEMPTED_FLAG'])\n",
    "            franz_wuerfe.append(franz_data)\n",
    "        except:\n",
    "            pass\n",
    "franz_wuerfe = pd.concat([franz_data for franz_data in franz_wuerfe])\n",
    "franz_wuerfe.to_csv('franz.csv',index=False)"
   ]
  },
  {
   "cell_type": "code",
   "execution_count": 12,
   "metadata": {},
   "outputs": [],
   "source": [
    "\n",
    "franz_geo = {\"type\": \"FeatureCollection\",\n",
    "            \"features\": []\n",
    "            }\n",
    "\n",
    "with open('franz.csv') as csvfile:\n",
    "    reader = csv.DictReader(csvfile)\n",
    "    for shot in reader:\n",
    "            # If there's a shot...\n",
    "            if shot:\n",
    "                # start conversions\n",
    "                xfeet = int(shot['LOC_X'])\n",
    "                yfeet = int(shot['LOC_Y'])\n",
    "\n",
    "                x_km = xfeet / 95\n",
    "                y_km = yfeet / 95\n",
    "\n",
    "                x_geo = x_km\n",
    "                y_geo = y_km * -1\n",
    "\n",
    "                shot = {\n",
    "                    \"type\": \"Feature\",\n",
    "                    \"geometry\": {\"type\": \"Point\", \"coordinates\": [x_geo, y_geo]},\n",
    "                    \"properties\": {\n",
    "                        \"gda\": shot['GAME_DATE'],  # game date\n",
    "                        \"gid\": int(shot['GAME_ID']),  # game id\n",
    "                        \"p\": shot[\"PERIOD\"],  # period\n",
    "                        \"r\": shot['SHOT_MADE_FLAG'],  # shot result\n",
    "                        \"se_type\": shot['GAME_TYPE'],\n",
    "                        \"sd\": shot['SHOT_DISTANCE'],  # shot distance\n",
    "                        \"sr\": shot['ACTION_TYPE'],  # shot range\n",
    "                        \"st\": shot['SHOT_TYPE'],  # shot type\n",
    "                        \"y\": shot['SEASON'],  # season/year\n",
    "                        \"h\": shot['HTM'],  # opponent\n",
    "                        \"v\": shot['VTM'],  # opponent\n",
    "                        \"id\": shot['GAME_EVENT_ID']  # shot id\n",
    "                    }\n",
    "                }\n",
    "                franz_geo[\"features\"].append(shot)\n",
    "\n",
    "with open('franz-shots.geojson', 'w+') as outfile:\n",
    "        json.dump(franz_geo, outfile)"
   ]
  }
 ],
 "metadata": {
  "interpreter": {
   "hash": "959714808e17f9979a55ab2c7cc9485ae7551c18cfa611132813d033557f556e"
  },
  "kernelspec": {
   "display_name": "Python 3.9.7 64-bit",
   "language": "python",
   "name": "python3"
  },
  "language_info": {
   "codemirror_mode": {
    "name": "ipython",
    "version": 3
   },
   "file_extension": ".py",
   "mimetype": "text/x-python",
   "name": "python",
   "nbconvert_exporter": "python",
   "pygments_lexer": "ipython3",
   "version": "3.9.7"
  },
  "orig_nbformat": 4
 },
 "nbformat": 4,
 "nbformat_minor": 2
}
