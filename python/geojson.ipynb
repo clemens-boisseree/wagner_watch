{
 "cells": [
  {
   "cell_type": "code",
   "execution_count": 21,
   "metadata": {},
   "outputs": [],
   "source": [
    "import json\n",
    "import requests\n",
    "import csv\n",
    "import pandas as pd\n",
    "import topojson as tp\n"
   ]
  },
  {
   "cell_type": "code",
   "execution_count": 22,
   "metadata": {},
   "outputs": [],
   "source": [
    "headers = {\n",
    "    'Host': 'stats.nba.com',\n",
    "    'User-Agent': 'Mozilla/5.0 (Windows NT 10.0; Win64; x64; rv:72.0) Gecko/20100101 Firefox/72.0',\n",
    "    'Accept': 'application/json, text/plain, */*',\n",
    "    'Accept-Language': 'en-US,en;q=0.5',\n",
    "    'Accept-Encoding': 'gzip, deflate, br',\n",
    "    'x-nba-stats-origin': 'stats',\n",
    "    'x-nba-stats-token': 'true',\n",
    "    'Connection': 'keep-alive',\n",
    "    'Origin': 'https://stats.nba.com',\n",
    "    'Referer': 'https://stats.nba.com/',\n",
    "    'Pragma': 'no-cache',\n",
    "    'Cache-Control': 'no-cache'\n",
    "}"
   ]
  },
  {
   "cell_type": "code",
   "execution_count": 23,
   "metadata": {},
   "outputs": [],
   "source": [
    "# #Würfe abrufen\n",
    "# franz_wuerfe =[]\n",
    "# seasons = ['2021-22']\n",
    "# playerid= \"1630532\"\n",
    "# teamid =\"1610612753\"\n",
    "# season_types = ['Regular+Season','Playoffs']\n",
    "# for season in seasons:\n",
    "#     for season_type in season_types:\n",
    "#         try:\n",
    "#             time.sleep(.6)\n",
    "#             season = season\n",
    "#             season_type = season_type\n",
    "#             url = 'https://stats.nba.com/stats/shotchartdetail??CFID=33&CFPARAMS={}&ContextFilter=&ContextMeasure=FGA&DateFrom=&DateTo=&GameID=&GameSegment=&LastNGames=0&LeagueID=00&Location=&MeasureType=Base&Month=0&OpponentTeamID=0&Outcome=&PaceAdjust=N&PerMode=PerGame&Period=0&PlayerID={}&PlayerPosition=&PlusMinus=N&Position=&Rank=N&RookieYear=&Season={}&SeasonSegment=&SeasonType={}&TeamID={}&VsConference=&VsDivision=&mode=Advanced&showDetails=0&showShots=1&showZones=0'.format(\n",
    "#                         season, playerid, season, season_type, teamid)\n",
    "#             r = requests.get(url, headers=headers)\n",
    "#             data = r.json()\n",
    "#             relevant_data = data['resultSets'][0]\n",
    "#             rows = relevant_data['rowSet']\n",
    "#             franz_data = pd.DataFrame(rows)\n",
    "#             franz_data.columns = ['GRID_TYPE', 'GAME_ID', 'GAME_EVENT_ID', 'PLAYER_ID', 'PLAYER_NAME', 'TEAM_ID', 'TEAM_NAME', 'PERIOD', 'MINUTES_REMAINING', 'SECONDS_REMAINING', 'EVENT_TYPE', 'ACTION_TYPE', 'SHOT_TYPE', 'SHOT_ZONE_BASIC', 'SHOT_ZONE_AREA', 'SHOT_ZONE_RANGE', 'SHOT_DISTANCE', 'LOC_X', 'LOC_Y', 'SHOT_ATTEMPTED_FLAG', 'SHOT_MADE_FLAG', 'GAME_DATE', 'HTM', 'VTM']\n",
    "#             franz_data['SEASON'] = season\n",
    "#             franz_data['GAME_TYPE'] = season_type\n",
    "#             franz_data['GAME_TYPE'] = franz_data['GAME_TYPE'].replace(['Regular+Season','Playoffs'],['R','P'])\n",
    "#             franz_data[\"GAME_DATE\"] = pd.to_datetime(franz_data[\"GAME_DATE\"], format='%Y%m%d').dt.strftime('%d.%m.%Y')\n",
    "#             franz_data['MINUTES_RE']=franz_data['MINUTES_REMAINING'].astype(str)+':'+franz_data['SECONDS_REMAINING'].astype(str)\n",
    "#             franz_data[\"MINUTES_RE\"] = pd.to_datetime(franz_data[\"MINUTES_RE\"], format='%M:%S').dt.strftime('%M:%S')\n",
    "\n",
    "#             franz_data['SHOT_TYPE'] = franz_data['SHOT_TYPE'].replace(['2PT Field Goal','3PT Field Goal'],[2,3])\n",
    "#             franz_data = franz_data.drop(columns=['GRID_TYPE','PLAYER_ID','PLAYER_NAME','TEAM_ID','TEAM_NAME','EVENT_TYPE','MINUTES_REMAINING','SHOT_ZONE_BASIC','SHOT_ZONE_AREA','SHOT_ZONE_RANGE', 'SECONDS_REMAINING','SHOT_ATTEMPTED_FLAG'])\n",
    "#             franz_wuerfe.append(franz_data)\n",
    "#         except:\n",
    "#             pass\n",
    "# franz_wuerfe = pd.concat([franz_data for franz_data in franz_wuerfe])\n",
    "# franz_wuerfe.to_csv('franz.csv',index=False)"
   ]
  },
  {
   "cell_type": "code",
   "execution_count": 24,
   "metadata": {},
   "outputs": [
    {
     "ename": "TypeError",
     "evalue": "dump() missing 1 required positional argument: 'fp'",
     "output_type": "error",
     "traceback": [
      "\u001b[1;31m---------------------------------------------------------------------------\u001b[0m",
      "\u001b[1;31mTypeError\u001b[0m                                 Traceback (most recent call last)",
      "\u001b[1;32mC:\\Users\\BOISSE~1.C\\AppData\\Local\\Temp/ipykernel_12920/93978442.py\u001b[0m in \u001b[0;36m<module>\u001b[1;34m\u001b[0m\n\u001b[0;32m     38\u001b[0m                 \u001b[0mfranz_geo\u001b[0m\u001b[1;33m[\u001b[0m\u001b[1;34m\"features\"\u001b[0m\u001b[1;33m]\u001b[0m\u001b[1;33m.\u001b[0m\u001b[0mappend\u001b[0m\u001b[1;33m(\u001b[0m\u001b[0mshot\u001b[0m\u001b[1;33m)\u001b[0m\u001b[1;33m\u001b[0m\u001b[1;33m\u001b[0m\u001b[0m\n\u001b[0;32m     39\u001b[0m \u001b[1;33m\u001b[0m\u001b[0m\n\u001b[1;32m---> 40\u001b[1;33m \u001b[0mdata\u001b[0m \u001b[1;33m=\u001b[0m \u001b[0mjson\u001b[0m\u001b[1;33m.\u001b[0m\u001b[0mdump\u001b[0m\u001b[1;33m(\u001b[0m\u001b[0mfranz_geo\u001b[0m\u001b[1;33m)\u001b[0m\u001b[1;33m\u001b[0m\u001b[1;33m\u001b[0m\u001b[0m\n\u001b[0m\u001b[0;32m     41\u001b[0m \u001b[0mprint\u001b[0m\u001b[1;33m(\u001b[0m\u001b[0mdata\u001b[0m\u001b[1;33m)\u001b[0m\u001b[1;33m\u001b[0m\u001b[1;33m\u001b[0m\u001b[0m\n\u001b[0;32m     42\u001b[0m \u001b[1;33m\u001b[0m\u001b[0m\n",
      "\u001b[1;31mTypeError\u001b[0m: dump() missing 1 required positional argument: 'fp'"
     ]
    }
   ],
   "source": [
    "\n",
    "franz_geo = {\"type\": \"FeatureCollection\",\n",
    "            \"features\": []\n",
    "            }\n",
    "\n",
    "with open('data/franz.csv') as csvfile:\n",
    "    reader = csv.DictReader(csvfile)\n",
    "    for shot in reader:\n",
    "            # If there's a shot...\n",
    "            if shot:\n",
    "                # start conversions\n",
    "                xfeet = int(shot['LOC_X'])\n",
    "                yfeet = int(shot['LOC_Y'])\n",
    "\n",
    "                x_km = xfeet / 95\n",
    "                y_km = yfeet / 95\n",
    "\n",
    "                x_geo = x_km\n",
    "                y_geo = y_km * -1\n",
    "\n",
    "                shot = {\n",
    "                    \"type\": \"Feature\",\n",
    "                    \"geometry\": {\"type\": \"Point\", \"coordinates\": [x_geo, y_geo]},\n",
    "                    \"properties\": {\n",
    "                        \"gda\": shot['GAME_DATE'],  # game date\n",
    "                        \"gid\": int(shot['GAME_ID']),  # game id\n",
    "                        \"p\": shot[\"PERIOD\"],  # period\n",
    "                        \"r\": shot['SHOT_MADE_FLAG'],  # shot result\n",
    "                        \"se_type\": shot['GAME_TYPE'],\n",
    "                        \"sd\": shot['SHOT_DISTANCE'],  # shot distance\n",
    "                        \"sr\": shot['ACTION_TYPE'],  # shot range\n",
    "                        \"st\": shot['SHOT_TYPE'],  # shot type\n",
    "                        \"y\": shot['SEASON'],  # season/year\n",
    "                        \"h\": shot['HTM'],  # opponent\n",
    "                        \"v\": shot['VTM'],  # opponent\n",
    "                        \"id\": shot['GAME_EVENT_ID']  # shot id\n",
    "                    }\n",
    "                }\n",
    "                franz_geo[\"features\"].append(shot)\n",
    "\n",
    "# with open('franz-shots.geojson', 'w+') as outfile:\n",
    "#         json.dump(franz_geo, outfile)"
   ]
  }
 ],
 "metadata": {
  "interpreter": {
   "hash": "959714808e17f9979a55ab2c7cc9485ae7551c18cfa611132813d033557f556e"
  },
  "kernelspec": {
   "display_name": "Python 3.9.7 64-bit",
   "language": "python",
   "name": "python3"
  },
  "language_info": {
   "codemirror_mode": {
    "name": "ipython",
    "version": 3
   },
   "file_extension": ".py",
   "mimetype": "text/x-python",
   "name": "python",
   "nbconvert_exporter": "python",
   "pygments_lexer": "ipython3",
   "version": "3.9.7"
  },
  "orig_nbformat": 4
 },
 "nbformat": 4,
 "nbformat_minor": 2
}
