{
 "cells": [
  {
   "cell_type": "code",
   "execution_count": 324,
   "metadata": {},
   "outputs": [],
   "source": [
    "from nba_api.stats.endpoints import shotchartdetail, videodetails\n",
    "import json\n",
    "import requests\n",
    "import pandas as pd\n",
    "import matplotlib as mpl\n",
    "import matplotlib.pyplot as plt\n",
    "import time"
   ]
  },
  {
   "cell_type": "code",
   "execution_count": 325,
   "metadata": {},
   "outputs": [],
   "source": [
    "headers = {\n",
    "    'Host': 'stats.nba.com',\n",
    "    'User-Agent': 'Mozilla/5.0 (Windows NT 10.0; Win64; x64; rv:72.0) Gecko/20100101 Firefox/72.0',\n",
    "    'Accept': 'application/json, text/plain, */*',\n",
    "    'Accept-Language': 'en-US,en;q=0.5',\n",
    "    'Accept-Encoding': 'gzip, deflate, br',\n",
    "    'x-nba-stats-origin': 'stats',\n",
    "    'x-nba-stats-token': 'true',\n",
    "    'Connection': 'keep-alive',\n",
    "    'Origin': 'https://stats.nba.com',\n",
    "    'Referer': 'https://stats.nba.com/',\n",
    "    'Pragma': 'no-cache',\n",
    "    'Cache-Control': 'no-cache'\n",
    "}"
   ]
  },
  {
   "cell_type": "code",
   "execution_count": 326,
   "metadata": {},
   "outputs": [],
   "source": [
    "franz_wuerfe = pd.read_csv('franz.csv', dtype ='str')\n",
    "gameids = franz_wuerfe[\"GAME_ID\"].tolist()\n",
    "gameevents = franz_wuerfe[\"GAME_EVENT_ID\"].tolist()\n",
    "franz_wuerfe[['GAME_ID','GAME_EVENT_ID']] = franz_wuerfe[['GAME_ID','GAME_EVENT_ID']].astype('int64')\n"
   ]
  },
  {
   "cell_type": "code",
   "execution_count": 327,
   "metadata": {},
   "outputs": [],
   "source": [
    "franz_wuerfe_neu= len(franz_wuerfe.index)\n",
    "franz_wuerfe_alt = pd.read_csv('franz_wuerfe_videos.csv')\n",
    "franz_wuerfe_alt= len(franz_wuerfe_alt.index)\n",
    "neue_wuerfe =  franz_wuerfe_neu-franz_wuerfe_alt\n"
   ]
  },
  {
   "cell_type": "code",
   "execution_count": 328,
   "metadata": {},
   "outputs": [
    {
     "name": "stdout",
     "output_type": "stream",
     "text": [
      "Keine neuen Würfe\n"
     ]
    }
   ],
   "source": [
    "index = 0\n",
    "if neue_wuerfe > 0:\n",
    "    franz_wuerfe_video =[]\n",
    "    for gameid, gameevent in zip(gameids[-int(neue_wuerfe):], gameevents[-int(neue_wuerfe):]):\n",
    "        time.sleep(.6)\n",
    "        index += 1\n",
    "        print(index)\n",
    "        event_id = gameevent\n",
    "        game_id =  gameid\n",
    "        url = 'https://stats.nba.com/stats/videoeventsasset?GameEventID={}&GameID={}'.format(\n",
    "                    event_id, game_id)\n",
    "        r = requests.get(url, headers=headers)\n",
    "        json = r.json()\n",
    "        video_urls = json['resultSets']['Meta']['videoUrls']\n",
    "        GameID = json['parameters']['GameID']\n",
    "        GameEventID = json['parameters']['GameEventID']\n",
    "        video_event = {'video': video_urls[0]['lurl'], 'game_id': GameID, 'event_id':GameEventID}\n",
    "        video_event=pd.DataFrame.from_dict(video_event,orient='index').T\n",
    "        franz_wuerfe_video.append(video_event)\n",
    "    franz_wuerfe_video = pd.concat([video_event for video_event in franz_wuerfe_video])\n",
    "    franz_wuerfe_video.to_csv('franz_videos.csv',index=False)\n",
    "\n",
    "    franz_wuerfe_video = franz_wuerfe_video.rename(columns={'game_id': 'GAME_ID', 'event_id': 'GAME_EVENT_ID'})\n",
    "    franz_wuerfe_video[['GAME_ID','GAME_EVENT_ID']] = franz_wuerfe_video[['GAME_ID','GAME_EVENT_ID']].astype('int64')\n",
    "    franz_wuerfe_video_merge = pd.merge(franz_wuerfe_video, franz_wuerfe, on=['GAME_ID','GAME_EVENT_ID'],  how='outer')\n",
    "    franz_wuerfe_video_merge.to_csv('franz_wuerfe_videos.csv',mode=\"a\", header=\"false\", index=False)\n",
    "else:\n",
    "    print(\"Keine neuen Würfe\")"
   ]
  }
 ],
 "metadata": {
  "interpreter": {
   "hash": "90a4fb7a50b2c30898c660cbaebef55b77c14eddd90e7f5420a24829f3d8e9fa"
  },
  "kernelspec": {
   "display_name": "Python 3.10.1 64-bit",
   "language": "python",
   "name": "python3"
  },
  "language_info": {
   "codemirror_mode": {
    "name": "ipython",
    "version": 3
   },
   "file_extension": ".py",
   "mimetype": "text/x-python",
   "name": "python",
   "nbconvert_exporter": "python",
   "pygments_lexer": "ipython3",
   "version": "3.10.1"
  },
  "orig_nbformat": 4
 },
 "nbformat": 4,
 "nbformat_minor": 2
}
